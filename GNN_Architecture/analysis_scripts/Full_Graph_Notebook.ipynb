{
 "cells": [
  {
   "cell_type": "code",
   "execution_count": 14,
   "id": "9395c080",
   "metadata": {},
   "outputs": [
    {
     "name": "stdout",
     "output_type": "stream",
     "text": [
      "../model_config.yml\n"
     ]
    }
   ],
   "source": [
    "import sys\n",
    "sys.path.append('../')\n",
    "from Model.model import ConvModel\n",
    "import dgl, torch, os, yaml\n",
    "import torch.nn as nn\n",
    "from evaluation import baseline_model_generator\n",
    "from collections import defaultdict\n",
    "import numpy as np\n",
    "import pickle\n",
    "from settings import BASE_DIR, CONFIG_PATH\n",
    "from evaluation.evaluation_metrics import mmr,hit_rate_precision, hit_rate_recall, rbo\n",
    "\n",
    "model_config = load_config(\"../model_config.yml\")\n",
    "\n",
    "graphs, _ = dgl.load_graphs(f\"../run_data/graph_files_subgraph/ecommerce_hetero_graph.dgl\")\n",
    "ecommerce_hetero_graph_subgraph = graphs[0]\n",
    "git status\n",
    "\n",
    "graphs, _ = dgl.load_graphs(f\"../run_data/graph_files_subgraph/train_g.dgl\")\n",
    "train_g = graphs[0]\n",
    "\n",
    "graphs, _ = dgl.load_graphs(f\"../run_data/graph_files_subgraph/test_g.dgl\")\n",
    "test_g = graphs[0]\n",
    "\n",
    "graphs, _ = dgl.load_graphs(f\"../run_data/graph_files_subgraph/valid_g.dgl\")\n",
    "valid_g = graphs[0]\n",
    "\n",
    "saved_model = torch.load(f\"../run_data/graph_files_subgraph/trained_model.pth\")"
   ]
  },
  {
   "cell_type": "code",
   "execution_count": 17,
   "id": "735ccc43",
   "metadata": {},
   "outputs": [
    {
     "name": "stdout",
     "output_type": "stream",
     "text": [
      "torch.Size([64]) torch.Size([96516, 64]) torch.Size([32171, 64])\n",
      "zeros count :  64 out of 64\n",
      "Model recs length 96516\n",
      "Valid graph length 11231\n"
     ]
    }
   ],
   "source": [
    "def get_ground_truth_recs(g):\n",
    "\n",
    "    customers_test, products_test  = (g.edges(etype='orders'))\n",
    "    test_rated_arr = np.stack((np.asarray(customers_test), np.asarray(products_test)), axis=1)\n",
    "    test_rated_dict = defaultdict(list)\n",
    "    \n",
    "    for key, val in test_rated_arr:\n",
    "        test_rated_dict[key].append(val)\n",
    "    \n",
    "    return {customer: list(set(products)) for customer, products in test_rated_dict.items()}\n",
    "\n",
    "recommendations_from_valid_graph = get_ground_truth_recs(valid_g)\n",
    "\n",
    "with open(f\"../run_data/graph_files_subgraph/trained_embeddings.pickle\", 'rb') as pickle_file:\n",
    "    train_embeddings = pickle.load(pickle_file)\n",
    "\n",
    "print(train_embeddings['customer'][1].shape, train_embeddings['customer'].shape, train_embeddings['product'].shape)\n",
    "\n",
    "print('zeros count : ', (train_embeddings['product'][5].shape[0] - torch.count_nonzero(train_embeddings['product'][5])).item(), \"out of\",train_embeddings['product'][5].shape[0])\n",
    "\n",
    "def get_model_recs():\n",
    "\n",
    "    user_ids = valid_g.num_nodes('customer')\n",
    "        \n",
    "    recs = {}\n",
    "\n",
    "    for user in range(user_ids):\n",
    "\n",
    "        user_emb = train_embeddings['customer'][user]\n",
    "        # user_emb_rpt = torch.cat(valid_g.num_nodes('product')*[user_emb]).reshape(-1, dim_dict['out_dim'])\n",
    "        user_emb_rpt = user_emb.repeat(valid_g.num_nodes('product'), 1)\n",
    "\n",
    "        # print(\"User embedding shape\",y['product'].shape, user_emb_rpt.shape)\n",
    "        cos = nn.CosineSimilarity(dim=1, eps=1e-6)\n",
    "        ratings = cos(user_emb_rpt, train_embeddings['product'])\n",
    "        \n",
    "        ratings_formatted = ratings.detach().numpy().reshape(valid_g.num_nodes('product'),)\n",
    "        order = np.argsort(-ratings_formatted)\n",
    "        \n",
    "        # already_rated = already_rated_dict[user]\n",
    "        # order = [item for item in order if item not in already_rated]\n",
    "        \n",
    "        recs[user] = order\n",
    "    \n",
    "    return recs\n",
    "\n",
    "# print(recs)\n",
    "\n",
    "model_recommendations = get_model_recs()\n",
    "\n",
    "print(\"Model recs length\",len(model_recommendations))\n",
    "print(\"Valid graph length\",len(recommendations_from_valid_graph))\n",
    "\n",
    "# use thif function to see actual recommendations\n",
    "# print(compare_rec(recommendations_from_valid_graph, model_recommendations))\n"
   ]
  },
  {
   "cell_type": "code",
   "execution_count": 5,
   "id": "a7bbbecb",
   "metadata": {},
   "outputs": [],
   "source": [
    "random_model = baseline_model_generator.generate_random_model(ecommerce_hetero_graph_subgraph, 'customer', 'product')\n",
    "baseline_model = baseline_model_generator.generate_popularity_model(ecommerce_hetero_graph_subgraph, 'orders', 'customer')\n"
   ]
  },
  {
   "cell_type": "code",
   "execution_count": 18,
   "id": "81f509d0",
   "metadata": {},
   "outputs": [
    {
     "name": "stdout",
     "output_type": "stream",
     "text": [
      "MMR Baseline:  0.015443635096361805\n",
      "MMR Random:  0.00032921258526424804\n",
      "MMR GNN Model:  0.15425457997250844\n"
     ]
    }
   ],
   "source": [
    "#Run 100 times\n",
    "print(\"MMR Popular: \", mmr(recommendations_from_valid_graph, baseline_model, 1))\n",
    "print(\"MMR Random: \", mmr(recommendations_from_valid_graph, random_model, 1))\n",
    "print(\"MMR GNN Model: \", mmr(recommendations_from_valid_graph, model_recommendations, 1))"
   ]
  },
  {
   "cell_type": "code",
   "execution_count": 42,
   "id": "b48cbe88",
   "metadata": {},
   "outputs": [],
   "source": [
    "from evaluation.evaluation_metrics import mmr,hit_rate_precision, hit_rate_recall, rbo\n",
    "import matplotlib.pyplot as plt\n",
    "import random"
   ]
  },
  {
   "cell_type": "code",
   "execution_count": 19,
   "id": "11c73388",
   "metadata": {},
   "outputs": [],
   "source": [
    "thresholds = [5,10,15,20,25,30,35,40,45,50]\n",
    "\n",
    "hit_rates_prec_baseline = []\n",
    "hit_rates_prec_random = []\n",
    "hit_rates_prec_model = []\n",
    "\n",
    "hit_rates_recall_baseline = []\n",
    "hit_rates_recall_random = []\n",
    "hit_rates_recall_model = []\n",
    "\n",
    "for t in thresholds:\n",
    "    hit_rates_prec_baseline.append(hit_rate_precision(recommendations_from_valid_graph, baseline_model, t))\n",
    "    hit_rates_prec_random.append(hit_rate_precision(recommendations_from_valid_graph, random_model, t))\n",
    "    hit_rates_prec_model.append(hit_rate_precision(recommendations_from_valid_graph, model_recommendations, t))\n",
    "    hit_rates_recall_baseline.append(hit_rate_recall(recommendations_from_valid_graph, baseline_model, t))\n",
    "    hit_rates_recall_random.append(hit_rate_recall(recommendations_from_valid_graph, random_model, t))\n",
    "    hit_rates_recall_model.append(hit_rate_recall(recommendations_from_valid_graph, model_recommendations, t))"
   ]
  },
  {
   "cell_type": "code",
   "execution_count": 20,
   "id": "060432dd",
   "metadata": {},
   "outputs": [
    {
     "data": {
      "image/png": "[encoded data removed]",
      "text/plain": [
       "<Figure size 432x288 with 1 Axes>"
      ]
     },
     "metadata": {
      "needs_background": "light"
     },
     "output_type": "display_data"
    }
   ],
   "source": [
    "plt.plot(thresholds,hit_rates_prec_baseline, label = \"Popularity Model\")\n",
    "plt.plot(thresholds,hit_rates_prec_random, label = \"Random Model\")\n",
    "plt.plot(thresholds,hit_rates_prec_model, label = \"GNNIE Model\")\n",
    "plt.legend()\n",
    "plt.xlabel(\"# Recs per Customer\")\n",
    "plt.ylabel(\"Hit Rate\")\n",
    "plt.title(\"Hit Rate Precision Performance\")\n",
    "plt.show()\n",
    "\n"
   ]
  },
  {
   "cell_type": "code",
   "execution_count": 21,
   "id": "c46516bb",
   "metadata": {},
   "outputs": [
    {
     "data": {
      "image/png": "[encoded data removed]",
      "text/plain": [
       "<Figure size 432x288 with 1 Axes>"
      ]
     },
     "metadata": {
      "needs_background": "light"
     },
     "output_type": "display_data"
    }
   ],
   "source": [
    "plt.plot(thresholds,hit_rates_recall_baseline, label = \"Popularity Model\")\n",
    "plt.plot(thresholds,hit_rates_recall_random, label = \"Random Model\")\n",
    "plt.plot(thresholds,hit_rates_recall_model, label = \"GNNIE Model\")\n",
    "plt.legend()\n",
    "plt.xlabel(\"# Recs per Customer\")\n",
    "plt.ylabel(\"Hit Rate\")\n",
    "plt.title(\"Hit Rate Recall Performance\")\n",
    "plt.show()"
   ]
  },
  {
   "cell_type": "markdown",
   "id": "459ff6d2",
   "metadata": {},
   "source": [
    "## RBO Analysis"
   ]
  },
  {
   "cell_type": "code",
   "execution_count": 67,
   "id": "91badb45",
   "metadata": {},
   "outputs": [
    {
     "data": {
      "text/plain": [
       "0.9999999999999996"
      ]
     },
     "execution_count": 67,
     "metadata": {},
     "output_type": "execute_result"
    }
   ],
   "source": [
    "# Sanity check\n",
    "rbo(baseline_model[0][0:100],baseline_model[0][0:100])"
   ]
  },
  {
   "cell_type": "code",
   "execution_count": 77,
   "id": "fa9b622b",
   "metadata": {},
   "outputs": [],
   "source": [
    "# Popular vs. Random\n",
    "rbo_scores_5 = []\n",
    "rbo_scores_15 = []\n",
    "rbo_scores_30 = []\n",
    "\n",
    "recs_sample = random.sample(list(model_recommendations.items()), 2000)\n",
    "\n",
    "for i in range(0,len(recs_sample)):\n",
    "    rbo_scores_5.append(rbo(baseline_model[0][0:100],random.sample(list(random_model[0]), 100),0.76))\n",
    "    rbo_scores_15.append(rbo(baseline_model[0][0:100],random.sample(list(random_model[0]), 100),0.9165))\n",
    "    rbo_scores_30.append(rbo(baseline_model[0][0:100],random.sample(list(random_model[0]), 100),0.9578))"
   ]
  },
  {
   "cell_type": "code",
   "execution_count": 78,
   "id": "cee0eac3",
   "metadata": {},
   "outputs": [
    {
     "name": "stdout",
     "output_type": "stream",
     "text": [
      "Random-Popularity RBO giving 90% weight to first 5 recs:  0.00017267958964257974\n",
      "Random-Popularity RBO giving 90% weight to first 15 recs:  0.00047695856967776827\n",
      "Random-Popularity RBO giving 90% weight to first 30 recs:  0.0006727054905783503\n"
     ]
    }
   ],
   "source": [
    "print(\"Random-Popularity RBO giving 90% weight to first 5 recs: \", sum(rbo_scores_5) / len(rbo_scores_5))\n",
    "print(\"Random-Popularity RBO giving 90% weight to first 15 recs: \", sum(rbo_scores_15) / len(rbo_scores_15))\n",
    "print(\"Random-Popularity RBO giving 90% weight to first 30 recs: \", sum(rbo_scores_30) / len(rbo_scores_30))"
   ]
  },
  {
   "cell_type": "code",
   "execution_count": 79,
   "id": "2940da20",
   "metadata": {},
   "outputs": [],
   "source": [
    "# Popular vs. GNNIE\n",
    "rbo_scores_5 = []\n",
    "rbo_scores_15 = []\n",
    "rbo_scores_30 = []\n",
    "\n",
    "recs_sample = random.sample(list(model_recommendations.items()), 2000)\n",
    "\n",
    "for i in range(0,len(recs_sample)):\n",
    "    rbo_scores_5.append(rbo(baseline_model[0][0:100],recs_sample[i][1][0:100],0.76))\n",
    "    rbo_scores_15.append(rbo(baseline_model[0][0:100],recs_sample[i][1][0:100],0.9165))\n",
    "    rbo_scores_30.append(rbo(baseline_model[0][0:100],recs_sample[i][1][0:100],0.9578))"
   ]
  },
  {
   "cell_type": "code",
   "execution_count": 80,
   "id": "24edce49",
   "metadata": {},
   "outputs": [
    {
     "name": "stdout",
     "output_type": "stream",
     "text": [
      "GNNIE-Popularity RBO giving 90% weight to first 5 recs:  0.0009468491112156215\n",
      "GNNIE-Popularity RBO giving 90% weight to first 15 recs:  0.0014589431482636968\n",
      "GNNIE-Popularity RBO giving 90% weight to first 30 recs:  0.0020968307797631417\n"
     ]
    }
   ],
   "source": [
    "print(\"GNNIE-Popularity RBO giving 90% weight to first 5 recs: \", sum(rbo_scores_5) / len(rbo_scores_5))\n",
    "print(\"GNNIE-Popularity RBO giving 90% weight to first 15 recs: \", sum(rbo_scores_15) / len(rbo_scores_15))\n",
    "print(\"GNNIE-Popularity RBO giving 90% weight to first 30 recs: \", sum(rbo_scores_30) / len(rbo_scores_30))"
   ]
  }
 ],
 "metadata": {
  "kernelspec": {
   "display_name": "Python 3",
   "language": "python",
   "name": "python3"
  },
  "language_info": {
   "codemirror_mode": {
    "name": "ipython",
    "version": 3
   },
   "file_extension": ".py",
   "mimetype": "text/x-python",
   "name": "python",
   "nbconvert_exporter": "python",
   "pygments_lexer": "ipython3",
   "version": "3.8.8"
  }
 },
 "nbformat": 4,
 "nbformat_minor": 5
}
